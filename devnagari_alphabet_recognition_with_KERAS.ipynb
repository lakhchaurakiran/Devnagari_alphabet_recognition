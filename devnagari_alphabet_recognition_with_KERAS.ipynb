{
 "cells": [
  {
   "cell_type": "code",
   "execution_count": 1,
   "metadata": {},
   "outputs": [],
   "source": [
    "import cv2\n",
    "import numpy as np\n",
    "import matplotlib.pyplot as plt\n",
    "%matplotlib inline"
   ]
  },
  {
   "cell_type": "markdown",
   "metadata": {},
   "source": [
    "Note about the dataset: \n",
    "\n",
    "The images for the hand-written 46 devanagari alphabets are stored in the 'DevanagariHandwrittenCharacterDataset' folder in the same directory as this notebook. The folder contains the train and test folders which have 1701 and 301 images of the 46 alphabets.\n",
    "\n",
    "Let's take a look at some of the images."
   ]
  },
  {
   "cell_type": "code",
   "execution_count": 6,
   "metadata": {},
   "outputs": [
    {
     "data": {
      "text/plain": [
       "(32, 32)"
      ]
     },
     "execution_count": 6,
     "metadata": {},
     "output_type": "execute_result"
    },
    {
     "data": {
      "image/png": "[encoded data removed]",
      "text/plain": [
       "<Figure size 432x288 with 1 Axes>"
      ]
     },
     "metadata": {
      "needs_background": "light"
     },
     "output_type": "display_data"
    }
   ],
   "source": [
    "dhaa = cv2.imread('DevanagariHandwrittenCharacterDataset/train/character_14_dhaa/10717.png',0)\n",
    "plt.imshow(dhaa,cmap='gray_r')\n",
    "dhaa.shape"
   ]
  },
  {
   "cell_type": "code",
   "execution_count": 7,
   "metadata": {},
   "outputs": [
    {
     "data": {
      "text/plain": [
       "(32, 32)"
      ]
     },
     "execution_count": 7,
     "metadata": {},
     "output_type": "execute_result"
    },
    {
     "data": {
      "image/png": "[encoded data removed]",
      "text/plain": [
       "<Figure size 432x288 with 1 Axes>"
      ]
     },
     "metadata": {
      "needs_background": "light"
     },
     "output_type": "display_data"
    }
   ],
   "source": [
    "na = cv2.imread('DevanagariHandwrittenCharacterDataset/train/character_20_na/11052.png',0)\n",
    "plt.imshow(na,cmap='gray_r')\n",
    "na.shape"
   ]
  },
  {
   "cell_type": "code",
   "execution_count": 8,
   "metadata": {},
   "outputs": [
    {
     "data": {
      "text/plain": [
       "(32, 32)"
      ]
     },
     "execution_count": 8,
     "metadata": {},
     "output_type": "execute_result"
    },
    {
     "data": {
      "image/png": "[encoded data removed]",
      "text/plain": [
       "<Figure size 432x288 with 1 Axes>"
      ]
     },
     "metadata": {
      "needs_background": "light"
     },
     "output_type": "display_data"
    }
   ],
   "source": [
    "gya = cv2.imread('DevanagariHandwrittenCharacterDataset/test/character_36_gya/64441.png',0)\n",
    "plt.imshow(gya,cmap='gray_r')\n",
    "gya.shape"
   ]
  },
  {
   "cell_type": "code",
   "execution_count": 10,
   "metadata": {},
   "outputs": [
    {
     "name": "stdout",
     "output_type": "stream",
     "text": [
      "0 255\n"
     ]
    }
   ],
   "source": [
    "print(gya.min(),gya.max())"
   ]
  },
  {
   "cell_type": "markdown",
   "metadata": {},
   "source": [
    "The images seem to be all of the same sizes (32x32) and some of them also have some rotation, so we don't have to induce random fluctuations to make the network more robust. Let's get straight to generating the flow of batches of training and test data."
   ]
  },
  {
   "cell_type": "code",
   "execution_count": 9,
   "metadata": {},
   "outputs": [
    {
     "name": "stderr",
     "output_type": "stream",
     "text": [
      "WARNING:root:Limited tf.compat.v2.summary API due to missing TensorBoard installation.\n",
      "WARNING:root:Limited tf.compat.v2.summary API due to missing TensorBoard installation.\n",
      "WARNING:root:Limited tf.summary API due to missing TensorBoard installation.\n"
     ]
    }
   ],
   "source": [
    "from tensorflow.keras.preprocessing.image import ImageDataGenerator"
   ]
  },
  {
   "cell_type": "code",
   "execution_count": 11,
   "metadata": {},
   "outputs": [],
   "source": [
    "image_gen = ImageDataGenerator(rescale=1/255,\n",
    "                              fill_mode='nearest')"
   ]
  },
  {
   "cell_type": "code",
   "execution_count": 15,
   "metadata": {},
   "outputs": [],
   "source": [
    "input_shape = (32,32,1)   "
   ]
  },
  {
   "cell_type": "code",
   "execution_count": 16,
   "metadata": {},
   "outputs": [],
   "source": [
    "from tensorflow.keras.models import Sequential\n",
    "from tensorflow.keras.layers import MaxPooling2D,Conv2D,Flatten,Dense"
   ]
  },
  {
   "cell_type": "code",
   "execution_count": 33,
   "metadata": {},
   "outputs": [],
   "source": [
    "# MODEL\n",
    "\n",
    "model = Sequential()\n",
    "\n",
    "# CONVOLUTIONAL LAYER\n",
    "model.add(Conv2D(filters=32,kernel_size=(4,4),input_shape=input_shape,activation='relu'))\n",
    "\n",
    "# POOLING LAYER\n",
    "model.add(MaxPooling2D(pool_size=(2,2)))\n",
    "\n",
    "# 2D --> 1D\n",
    "model.add(Flatten())\n",
    "\n",
    "# DENSE LAYER\n",
    "model.add(Dense(128,activation='relu'))\n",
    "\n",
    "# OUTPUT LAYER\n",
    "model.add(Dense(46,activation='softmax'))\n",
    "\n",
    "model.compile(loss='categorical_crossentropy',optimizer='adam',metrics=['acc'])"
   ]
  },
  {
   "cell_type": "code",
   "execution_count": 34,
   "metadata": {},
   "outputs": [
    {
     "name": "stdout",
     "output_type": "stream",
     "text": [
      "Model: \"sequential_3\"\n",
      "_________________________________________________________________\n",
      "Layer (type)                 Output Shape              Param #   \n",
      "=================================================================\n",
      "conv2d_3 (Conv2D)            (None, 29, 29, 32)        544       \n",
      "_________________________________________________________________\n",
      "max_pooling2d_2 (MaxPooling2 (None, 14, 14, 32)        0         \n",
      "_________________________________________________________________\n",
      "flatten (Flatten)            (None, 6272)              0         \n",
      "_________________________________________________________________\n",
      "dense_4 (Dense)              (None, 128)               802944    \n",
      "_________________________________________________________________\n",
      "dense_5 (Dense)              (None, 46)                5934      \n",
      "=================================================================\n",
      "Total params: 809,422\n",
      "Trainable params: 809,422\n",
      "Non-trainable params: 0\n",
      "_________________________________________________________________\n"
     ]
    }
   ],
   "source": [
    "model.summary()"
   ]
  },
  {
   "cell_type": "code",
   "execution_count": 35,
   "metadata": {},
   "outputs": [
    {
     "name": "stdout",
     "output_type": "stream",
     "text": [
      "Found 78200 images belonging to 46 classes.\n"
     ]
    }
   ],
   "source": [
    "batch_size = 16\n",
    "\n",
    "train_image_gen = image_gen.flow_from_directory('DevanagariHandwrittenCharacterDataset/train/',\n",
    "                                     target_size=input_shape[:2],\n",
    "                                    batch_size=batch_size,\n",
    "                                    class_mode='categorical',color_mode='grayscale')"
   ]
  },
  {
   "cell_type": "code",
   "execution_count": 36,
   "metadata": {},
   "outputs": [
    {
     "name": "stdout",
     "output_type": "stream",
     "text": [
      "Found 13800 images belonging to 46 classes.\n"
     ]
    }
   ],
   "source": [
    "test_image_gen = image_gen.flow_from_directory('DevanagariHandwrittenCharacterDataset/test/',\n",
    "                                     target_size=input_shape[:2],\n",
    "                                    batch_size=batch_size,\n",
    "                                    class_mode='categorical',color_mode='grayscale')"
   ]
  },
  {
   "cell_type": "code",
   "execution_count": 37,
   "metadata": {},
   "outputs": [
    {
     "data": {
      "text/plain": [
       "{'character_10_yna': 0,\n",
       " 'character_11_taamatar': 1,\n",
       " 'character_12_thaa': 2,\n",
       " 'character_13_daa': 3,\n",
       " 'character_14_dhaa': 4,\n",
       " 'character_15_adna': 5,\n",
       " 'character_16_tabala': 6,\n",
       " 'character_17_tha': 7,\n",
       " 'character_18_da': 8,\n",
       " 'character_19_dha': 9,\n",
       " 'character_1_ka': 10,\n",
       " 'character_20_na': 11,\n",
       " 'character_21_pa': 12,\n",
       " 'character_22_pha': 13,\n",
       " 'character_23_ba': 14,\n",
       " 'character_24_bha': 15,\n",
       " 'character_25_ma': 16,\n",
       " 'character_26_yaw': 17,\n",
       " 'character_27_ra': 18,\n",
       " 'character_28_la': 19,\n",
       " 'character_29_waw': 20,\n",
       " 'character_2_kha': 21,\n",
       " 'character_30_motosaw': 22,\n",
       " 'character_31_petchiryakha': 23,\n",
       " 'character_32_patalosaw': 24,\n",
       " 'character_33_ha': 25,\n",
       " 'character_34_chhya': 26,\n",
       " 'character_35_tra': 27,\n",
       " 'character_36_gya': 28,\n",
       " 'character_3_ga': 29,\n",
       " 'character_4_gha': 30,\n",
       " 'character_5_kna': 31,\n",
       " 'character_6_cha': 32,\n",
       " 'character_7_chha': 33,\n",
       " 'character_8_ja': 34,\n",
       " 'character_9_jha': 35,\n",
       " 'digit_0': 36,\n",
       " 'digit_1': 37,\n",
       " 'digit_2': 38,\n",
       " 'digit_3': 39,\n",
       " 'digit_4': 40,\n",
       " 'digit_5': 41,\n",
       " 'digit_6': 42,\n",
       " 'digit_7': 43,\n",
       " 'digit_8': 44,\n",
       " 'digit_9': 45}"
      ]
     },
     "execution_count": 37,
     "metadata": {},
     "output_type": "execute_result"
    }
   ],
   "source": [
    "train_image_gen.class_indices"
   ]
  },
  {
   "cell_type": "code",
   "execution_count": 38,
   "metadata": {},
   "outputs": [
    {
     "name": "stdout",
     "output_type": "stream",
     "text": [
      "Epoch 1/100\n",
      "200/200 [==============================] - 6s 29ms/step - loss: 2.5741 - acc: 0.3297 - val_loss: 1.6756 - val_acc: 0.5562\n",
      "Epoch 2/100\n",
      "200/200 [==============================] - 6s 28ms/step - loss: 1.3023 - acc: 0.6300 - val_loss: 1.0163 - val_acc: 0.7094\n",
      "Epoch 3/100\n",
      "200/200 [==============================] - 7s 33ms/step - loss: 0.9229 - acc: 0.7362 - val_loss: 0.8070 - val_acc: 0.7594\n",
      "Epoch 4/100\n",
      "200/200 [==============================] - 10s 48ms/step - loss: 0.7320 - acc: 0.7900 - val_loss: 0.5716 - val_acc: 0.8250\n",
      "Epoch 5/100\n",
      "200/200 [==============================] - 6s 30ms/step - loss: 0.5867 - acc: 0.8313 - val_loss: 0.4599 - val_acc: 0.8594\n",
      "Epoch 6/100\n",
      "200/200 [==============================] - 5s 27ms/step - loss: 0.5396 - acc: 0.8469 - val_loss: 0.4367 - val_acc: 0.8562\n",
      "Epoch 7/100\n",
      "200/200 [==============================] - 5s 26ms/step - loss: 0.5093 - acc: 0.8519 - val_loss: 0.3328 - val_acc: 0.9250\n",
      "Epoch 8/100\n",
      "200/200 [==============================] - 5s 26ms/step - loss: 0.4215 - acc: 0.8722 - val_loss: 0.3392 - val_acc: 0.9031\n",
      "Epoch 9/100\n",
      "200/200 [==============================] - 6s 28ms/step - loss: 0.4194 - acc: 0.8731 - val_loss: 0.3170 - val_acc: 0.8938\n",
      "Epoch 10/100\n",
      "200/200 [==============================] - 7s 36ms/step - loss: 0.3653 - acc: 0.8978 - val_loss: 0.3299 - val_acc: 0.8969\n",
      "Epoch 11/100\n",
      "200/200 [==============================] - 6s 29ms/step - loss: 0.3642 - acc: 0.8938 - val_loss: 0.2836 - val_acc: 0.9219\n",
      "Epoch 12/100\n",
      "200/200 [==============================] - 5s 26ms/step - loss: 0.3519 - acc: 0.8903 - val_loss: 0.2667 - val_acc: 0.9156\n",
      "Epoch 13/100\n",
      "200/200 [==============================] - 5s 27ms/step - loss: 0.3512 - acc: 0.8928 - val_loss: 0.2512 - val_acc: 0.9094\n",
      "Epoch 14/100\n",
      "200/200 [==============================] - 11s 54ms/step - loss: 0.2991 - acc: 0.9066 - val_loss: 0.2591 - val_acc: 0.9156\n",
      "Epoch 15/100\n",
      "200/200 [==============================] - 8s 38ms/step - loss: 0.3320 - acc: 0.9034 - val_loss: 0.2625 - val_acc: 0.9062\n",
      "Epoch 16/100\n",
      "200/200 [==============================] - 7s 33ms/step - loss: 0.2981 - acc: 0.9072 - val_loss: 0.2860 - val_acc: 0.9000\n",
      "Epoch 17/100\n",
      "200/200 [==============================] - 6s 32ms/step - loss: 0.3035 - acc: 0.9062 - val_loss: 0.2653 - val_acc: 0.9312\n",
      "Epoch 18/100\n",
      "200/200 [==============================] - 6s 30ms/step - loss: 0.3054 - acc: 0.9050 - val_loss: 0.2069 - val_acc: 0.9344\n",
      "Epoch 19/100\n",
      "200/200 [==============================] - 6s 29ms/step - loss: 0.2683 - acc: 0.9216 - val_loss: 0.2311 - val_acc: 0.9312\n",
      "Epoch 20/100\n",
      "200/200 [==============================] - 6s 29ms/step - loss: 0.2764 - acc: 0.9175 - val_loss: 0.2079 - val_acc: 0.9375\n",
      "Epoch 21/100\n",
      "200/200 [==============================] - 6s 30ms/step - loss: 0.2452 - acc: 0.9300 - val_loss: 0.1861 - val_acc: 0.9375\n",
      "Epoch 22/100\n",
      "200/200 [==============================] - 6s 31ms/step - loss: 0.2665 - acc: 0.9225 - val_loss: 0.1992 - val_acc: 0.9406\n",
      "Epoch 23/100\n",
      "200/200 [==============================] - 6s 29ms/step - loss: 0.2558 - acc: 0.9253 - val_loss: 0.2093 - val_acc: 0.9406\n",
      "Epoch 24/100\n",
      "200/200 [==============================] - 6s 30ms/step - loss: 0.2526 - acc: 0.9259 - val_loss: 0.2142 - val_acc: 0.9312\n",
      "Epoch 25/100\n",
      "200/200 [==============================] - 6s 29ms/step - loss: 0.2020 - acc: 0.9403 - val_loss: 0.2055 - val_acc: 0.9375\n",
      "Epoch 26/100\n",
      "200/200 [==============================] - 6s 31ms/step - loss: 0.1907 - acc: 0.9409 - val_loss: 0.1865 - val_acc: 0.9438\n",
      "Epoch 27/100\n",
      "200/200 [==============================] - 6s 30ms/step - loss: 0.1856 - acc: 0.9463 - val_loss: 0.2022 - val_acc: 0.9344\n",
      "Epoch 28/100\n",
      "200/200 [==============================] - 5s 27ms/step - loss: 0.1770 - acc: 0.9434 - val_loss: 0.1663 - val_acc: 0.9500\n",
      "Epoch 29/100\n",
      "200/200 [==============================] - 6s 28ms/step - loss: 0.1626 - acc: 0.9491 - val_loss: 0.1766 - val_acc: 0.9406\n",
      "Epoch 30/100\n",
      "200/200 [==============================] - 6s 28ms/step - loss: 0.1740 - acc: 0.9491 - val_loss: 0.2438 - val_acc: 0.9250\n",
      "Epoch 31/100\n",
      "200/200 [==============================] - 6s 28ms/step - loss: 0.1556 - acc: 0.9522 - val_loss: 0.2053 - val_acc: 0.9344\n",
      "Epoch 32/100\n",
      "200/200 [==============================] - 6s 28ms/step - loss: 0.1997 - acc: 0.9375 - val_loss: 0.2043 - val_acc: 0.9438\n",
      "Epoch 33/100\n",
      "200/200 [==============================] - 6s 29ms/step - loss: 0.2209 - acc: 0.9347 - val_loss: 0.2025 - val_acc: 0.9312\n",
      "Epoch 34/100\n",
      "200/200 [==============================] - 5s 27ms/step - loss: 0.1574 - acc: 0.9506 - val_loss: 0.2576 - val_acc: 0.9219\n",
      "Epoch 35/100\n",
      "200/200 [==============================] - 6s 30ms/step - loss: 0.1738 - acc: 0.9491 - val_loss: 0.1940 - val_acc: 0.9469\n",
      "Epoch 36/100\n",
      "200/200 [==============================] - 5s 27ms/step - loss: 0.1873 - acc: 0.9481 - val_loss: 0.1678 - val_acc: 0.9563\n",
      "Epoch 37/100\n",
      "200/200 [==============================] - 5s 27ms/step - loss: 0.1908 - acc: 0.9456 - val_loss: 0.1935 - val_acc: 0.9438\n",
      "Epoch 38/100\n",
      "200/200 [==============================] - 6s 28ms/step - loss: 0.1703 - acc: 0.9481 - val_loss: 0.1811 - val_acc: 0.9438\n",
      "Epoch 39/100\n",
      "200/200 [==============================] - 5s 27ms/step - loss: 0.1812 - acc: 0.9469 - val_loss: 0.2142 - val_acc: 0.9375\n",
      "Epoch 40/100\n",
      "200/200 [==============================] - 6s 29ms/step - loss: 0.1565 - acc: 0.9566 - val_loss: 0.1612 - val_acc: 0.9625\n",
      "Epoch 41/100\n",
      "200/200 [==============================] - 6s 28ms/step - loss: 0.1864 - acc: 0.9484 - val_loss: 0.1747 - val_acc: 0.9531\n",
      "Epoch 42/100\n",
      "200/200 [==============================] - 6s 28ms/step - loss: 0.1505 - acc: 0.9497 - val_loss: 0.1918 - val_acc: 0.9375\n",
      "Epoch 43/100\n",
      "200/200 [==============================] - 6s 28ms/step - loss: 0.1613 - acc: 0.9513 - val_loss: 0.1704 - val_acc: 0.9500\n",
      "Epoch 44/100\n",
      "200/200 [==============================] - 5s 27ms/step - loss: 0.1717 - acc: 0.9481 - val_loss: 0.2028 - val_acc: 0.9438\n",
      "Epoch 45/100\n",
      "200/200 [==============================] - 6s 28ms/step - loss: 0.1671 - acc: 0.9525 - val_loss: 0.2075 - val_acc: 0.9406\n",
      "Epoch 46/100\n",
      "200/200 [==============================] - 6s 29ms/step - loss: 0.1607 - acc: 0.9506 - val_loss: 0.1662 - val_acc: 0.9375\n",
      "Epoch 47/100\n",
      "200/200 [==============================] - 6s 31ms/step - loss: 0.1581 - acc: 0.9488 - val_loss: 0.1686 - val_acc: 0.9594\n",
      "Epoch 48/100\n",
      "200/200 [==============================] - 6s 28ms/step - loss: 0.1580 - acc: 0.9539 - val_loss: 0.2069 - val_acc: 0.9375\n",
      "Epoch 49/100\n",
      "200/200 [==============================] - 6s 28ms/step - loss: 0.1532 - acc: 0.9516 - val_loss: 0.1828 - val_acc: 0.9406\n",
      "Epoch 50/100\n",
      "200/200 [==============================] - 6s 28ms/step - loss: 0.0934 - acc: 0.9725 - val_loss: 0.1834 - val_acc: 0.9438\n",
      "Epoch 51/100\n",
      "200/200 [==============================] - 6s 28ms/step - loss: 0.0781 - acc: 0.9769 - val_loss: 0.1577 - val_acc: 0.9531\n",
      "Epoch 52/100\n",
      "200/200 [==============================] - 6s 29ms/step - loss: 0.0871 - acc: 0.9744 - val_loss: 0.1593 - val_acc: 0.9563\n",
      "Epoch 53/100\n",
      "200/200 [==============================] - 6s 30ms/step - loss: 0.1069 - acc: 0.9656 - val_loss: 0.1708 - val_acc: 0.9563\n",
      "Epoch 54/100\n",
      "200/200 [==============================] - 6s 30ms/step - loss: 0.1178 - acc: 0.9606 - val_loss: 0.1752 - val_acc: 0.9500\n",
      "Epoch 55/100\n",
      "200/200 [==============================] - 6s 29ms/step - loss: 0.1091 - acc: 0.9672 - val_loss: 0.2238 - val_acc: 0.9406\n",
      "Epoch 56/100\n",
      "200/200 [==============================] - 6s 29ms/step - loss: 0.1011 - acc: 0.9684 - val_loss: 0.1984 - val_acc: 0.9375\n",
      "Epoch 57/100\n",
      "200/200 [==============================] - 6s 30ms/step - loss: 0.1061 - acc: 0.9634 - val_loss: 0.1614 - val_acc: 0.9594\n",
      "Epoch 58/100\n",
      "200/200 [==============================] - 6s 32ms/step - loss: 0.1196 - acc: 0.9643 - val_loss: 0.1655 - val_acc: 0.9531\n",
      "Epoch 59/100\n",
      "200/200 [==============================] - 6s 29ms/step - loss: 0.1005 - acc: 0.9712 - val_loss: 0.1658 - val_acc: 0.9469\n",
      "Epoch 60/100\n",
      "200/200 [==============================] - 6s 28ms/step - loss: 0.1098 - acc: 0.9619 - val_loss: 0.2017 - val_acc: 0.9406\n",
      "Epoch 61/100\n",
      "200/200 [==============================] - 6s 30ms/step - loss: 0.1213 - acc: 0.9613 - val_loss: 0.1818 - val_acc: 0.9500\n",
      "Epoch 62/100\n",
      "200/200 [==============================] - 6s 29ms/step - loss: 0.0942 - acc: 0.9719 - val_loss: 0.1683 - val_acc: 0.9438\n",
      "Epoch 63/100\n",
      "200/200 [==============================] - 6s 29ms/step - loss: 0.1145 - acc: 0.9678 - val_loss: 0.1710 - val_acc: 0.9563\n",
      "Epoch 64/100\n",
      "200/200 [==============================] - 6s 30ms/step - loss: 0.1155 - acc: 0.9656 - val_loss: 0.1669 - val_acc: 0.9563\n",
      "Epoch 65/100\n",
      "200/200 [==============================] - 6s 30ms/step - loss: 0.1051 - acc: 0.9638 - val_loss: 0.1731 - val_acc: 0.9500\n",
      "Epoch 66/100\n",
      "200/200 [==============================] - 6s 31ms/step - loss: 0.1034 - acc: 0.9703 - val_loss: 0.1980 - val_acc: 0.9406\n",
      "Epoch 67/100\n",
      "200/200 [==============================] - 6s 31ms/step - loss: 0.1091 - acc: 0.9663 - val_loss: 0.1893 - val_acc: 0.9563\n",
      "Epoch 68/100\n",
      "200/200 [==============================] - 6s 32ms/step - loss: 0.1234 - acc: 0.9591 - val_loss: 0.1817 - val_acc: 0.9531\n",
      "Epoch 69/100\n",
      "200/200 [==============================] - 6s 30ms/step - loss: 0.1010 - acc: 0.9688 - val_loss: 0.1626 - val_acc: 0.9563\n",
      "Epoch 70/100\n",
      "200/200 [==============================] - 6s 30ms/step - loss: 0.1295 - acc: 0.9622 - val_loss: 0.1566 - val_acc: 0.9469\n",
      "Epoch 71/100\n",
      "200/200 [==============================] - 6s 31ms/step - loss: 0.1196 - acc: 0.9613 - val_loss: 0.1528 - val_acc: 0.9563\n",
      "Epoch 72/100\n",
      "200/200 [==============================] - 6s 30ms/step - loss: 0.1091 - acc: 0.9616 - val_loss: 0.1821 - val_acc: 0.9563\n",
      "Epoch 73/100\n",
      "200/200 [==============================] - 6s 31ms/step - loss: 0.0983 - acc: 0.9700 - val_loss: 0.1837 - val_acc: 0.9500\n",
      "Epoch 74/100\n",
      "200/200 [==============================] - 6s 31ms/step - loss: 0.0789 - acc: 0.9753 - val_loss: 0.1744 - val_acc: 0.9531\n",
      "Epoch 75/100\n",
      "200/200 [==============================] - 6s 32ms/step - loss: 0.0543 - acc: 0.9819 - val_loss: 0.1601 - val_acc: 0.9531\n",
      "Epoch 76/100\n",
      "200/200 [==============================] - 6s 32ms/step - loss: 0.0490 - acc: 0.9847 - val_loss: 0.1794 - val_acc: 0.9469\n",
      "Epoch 77/100\n",
      "200/200 [==============================] - 6s 29ms/step - loss: 0.0547 - acc: 0.9822 - val_loss: 0.1743 - val_acc: 0.9531\n",
      "Epoch 78/100\n",
      "200/200 [==============================] - 6s 29ms/step - loss: 0.0615 - acc: 0.9775 - val_loss: 0.1673 - val_acc: 0.9625\n",
      "Epoch 79/100\n",
      "200/200 [==============================] - 6s 29ms/step - loss: 0.0605 - acc: 0.9806 - val_loss: 0.1802 - val_acc: 0.9500\n",
      "Epoch 80/100\n",
      "200/200 [==============================] - 6s 30ms/step - loss: 0.0634 - acc: 0.9791 - val_loss: 0.1429 - val_acc: 0.9688\n",
      "Epoch 81/100\n",
      "200/200 [==============================] - 6s 31ms/step - loss: 0.0711 - acc: 0.9750 - val_loss: 0.2321 - val_acc: 0.9469\n",
      "Epoch 82/100\n",
      "200/200 [==============================] - 6s 29ms/step - loss: 0.0619 - acc: 0.9806 - val_loss: 0.1593 - val_acc: 0.9563\n",
      "Epoch 83/100\n",
      "200/200 [==============================] - 6s 30ms/step - loss: 0.0705 - acc: 0.9806 - val_loss: 0.1738 - val_acc: 0.9469\n",
      "Epoch 84/100\n",
      "200/200 [==============================] - 6s 28ms/step - loss: 0.0737 - acc: 0.9737 - val_loss: 0.1593 - val_acc: 0.9594\n",
      "Epoch 85/100\n",
      "200/200 [==============================] - 6s 28ms/step - loss: 0.0824 - acc: 0.9731 - val_loss: 0.1951 - val_acc: 0.9500\n",
      "Epoch 86/100\n",
      "200/200 [==============================] - 6s 30ms/step - loss: 0.0861 - acc: 0.9744 - val_loss: 0.1801 - val_acc: 0.9469\n",
      "Epoch 87/100\n",
      "200/200 [==============================] - 6s 30ms/step - loss: 0.0774 - acc: 0.9769 - val_loss: 0.1205 - val_acc: 0.9656\n",
      "Epoch 88/100\n",
      "200/200 [==============================] - 6s 30ms/step - loss: 0.0857 - acc: 0.9722 - val_loss: 0.1450 - val_acc: 0.9688\n",
      "Epoch 89/100\n",
      "200/200 [==============================] - 6s 30ms/step - loss: 0.0610 - acc: 0.9806 - val_loss: 0.1138 - val_acc: 0.9688\n",
      "Epoch 90/100\n",
      "200/200 [==============================] - 6s 29ms/step - loss: 0.0750 - acc: 0.9756 - val_loss: 0.1707 - val_acc: 0.9469\n",
      "Epoch 91/100\n",
      "200/200 [==============================] - 6s 30ms/step - loss: 0.0814 - acc: 0.9712 - val_loss: 0.1439 - val_acc: 0.9531\n",
      "Epoch 92/100\n",
      "200/200 [==============================] - 6s 32ms/step - loss: 0.0729 - acc: 0.9759 - val_loss: 0.1068 - val_acc: 0.9719\n",
      "Epoch 93/100\n",
      "200/200 [==============================] - 6s 28ms/step - loss: 0.0890 - acc: 0.9700 - val_loss: 0.1095 - val_acc: 0.9688\n",
      "Epoch 94/100\n",
      "200/200 [==============================] - 6s 28ms/step - loss: 0.0633 - acc: 0.9803 - val_loss: 0.1784 - val_acc: 0.9563\n",
      "Epoch 95/100\n",
      "200/200 [==============================] - 6s 29ms/step - loss: 0.0642 - acc: 0.9787 - val_loss: 0.1289 - val_acc: 0.9656\n",
      "Epoch 96/100\n",
      "200/200 [==============================] - 6s 28ms/step - loss: 0.0761 - acc: 0.9787 - val_loss: 0.1605 - val_acc: 0.9500\n",
      "Epoch 97/100\n",
      "200/200 [==============================] - 6s 29ms/step - loss: 0.0725 - acc: 0.9753 - val_loss: 0.1640 - val_acc: 0.9500\n",
      "Epoch 98/100\n",
      "200/200 [==============================] - 6s 30ms/step - loss: 0.0641 - acc: 0.9800 - val_loss: 0.1539 - val_acc: 0.9594\n",
      "Epoch 99/100\n",
      "200/200 [==============================] - 6s 29ms/step - loss: 0.0334 - acc: 0.9906 - val_loss: 0.1230 - val_acc: 0.9719\n",
      "Epoch 100/100\n",
      "200/200 [==============================] - 6s 30ms/step - loss: 0.0300 - acc: 0.9903 - val_loss: 0.1370 - val_acc: 0.9625\n"
     ]
    }
   ],
   "source": [
    "results = model.fit_generator(train_image_gen,epochs=100,steps_per_epoch=200,\n",
    "                              validation_data=test_image_gen,validation_steps=20)"
   ]
  },
  {
   "cell_type": "code",
   "execution_count": 39,
   "metadata": {},
   "outputs": [],
   "source": [
    "# testing the trained model on an unseen image"
   ]
  },
  {
   "cell_type": "code",
   "execution_count": 41,
   "metadata": {},
   "outputs": [],
   "source": [
    "from tensorflow.keras.preprocessing import image"
   ]
  },
  {
   "cell_type": "code",
   "execution_count": 55,
   "metadata": {},
   "outputs": [
    {
     "data": {
      "text/plain": [
       "array([15])"
      ]
     },
     "execution_count": 55,
     "metadata": {},
     "output_type": "execute_result"
    },
    {
     "data": {
      "image/png": "[encoded data removed]",
      "text/plain": [
       "<Figure size 432x288 with 1 Axes>"
      ]
     },
     "metadata": {
      "needs_background": "light"
     },
     "output_type": "display_data"
    }
   ],
   "source": [
    "file = 'DevanagariHandwrittenCharacterDataset/test/character_24_bha/17529.png'\n",
    "im=cv2.imread(file,0)\n",
    "plt.imshow(im,cmap='gray_r')\n",
    "img = image.load_img(file,grayscale=True)\n",
    "img = image.img_to_array(img)\n",
    "import numpy as np\n",
    "img = np.expand_dims(img,axis=0)\n",
    "img=img/255\n",
    "model.predict_classes(img)"
   ]
  },
  {
   "cell_type": "markdown",
   "metadata": {},
   "source": [
    "which is the correct class for the letter bha as you can check above"
   ]
  },
  {
   "cell_type": "code",
   "execution_count": 56,
   "metadata": {},
   "outputs": [
    {
     "data": {
      "text/plain": [
       "array([24])"
      ]
     },
     "execution_count": 56,
     "metadata": {},
     "output_type": "execute_result"
    },
    {
     "data": {
      "image/png": "[encoded data removed]",
      "text/plain": [
       "<Figure size 432x288 with 1 Axes>"
      ]
     },
     "metadata": {
      "needs_background": "light"
     },
     "output_type": "display_data"
    }
   ],
   "source": [
    "file = 'DevanagariHandwrittenCharacterDataset/test/character_32_patalosaw/11688.png'\n",
    "im=cv2.imread(file,0)\n",
    "plt.imshow(im,cmap='gray_r')\n",
    "img = image.load_img(file,grayscale=True)\n",
    "img = image.img_to_array(img)\n",
    "import numpy as np\n",
    "img = np.expand_dims(img,axis=0)\n",
    "img=img/255\n",
    "model.predict_classes(img)"
   ]
  },
  {
   "cell_type": "markdown",
   "metadata": {},
   "source": [
    "which is the correct class for patalosaw"
   ]
  },
  {
   "cell_type": "code",
   "execution_count": null,
   "metadata": {},
   "outputs": [],
   "source": []
  }
 ],
 "metadata": {
  "kernelspec": {
   "display_name": "Python 3",
   "language": "python",
   "name": "python3"
  },
  "language_info": {
   "codemirror_mode": {
    "name": "ipython",
    "version": 3
   },
   "file_extension": ".py",
   "mimetype": "text/x-python",
   "name": "python",
   "nbconvert_exporter": "python",
   "pygments_lexer": "ipython3",
   "version": "3.6.9"
  }
 },
 "nbformat": 4,
 "nbformat_minor": 4
}
