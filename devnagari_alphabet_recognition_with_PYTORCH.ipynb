{
 "cells": [
  {
   "cell_type": "code",
   "execution_count": 27,
   "metadata": {},
   "outputs": [],
   "source": [
    "import torch\n",
    "from torch.nn import Linear, ReLU, CrossEntropyLoss, Sequential, Conv2d, MaxPool2d, Module\n",
    "from torch.optim import Adam\n",
    "from torch import nn,optim\n",
    "from torch.optim import lr_scheduler\n",
    "from torch.utils.data import DataLoader\n",
    "from torchvision import transforms\n",
    "from torchvision.datasets import ImageFolder\n",
    "\n",
    "from PIL import Image\n",
    "\n",
    "import numpy as np\n",
    "import matplotlib.pyplot as plt\n",
    "%matplotlib inline"
   ]
  },
  {
   "cell_type": "code",
   "execution_count": 28,
   "metadata": {},
   "outputs": [
    {
     "data": {
      "text/plain": [
       "Net(\n",
       "  (cnn_layer): Sequential(\n",
       "    (0): Conv2d(1, 32, kernel_size=(5, 5), stride=(1, 1))\n",
       "    (1): ReLU(inplace=True)\n",
       "    (2): MaxPool2d(kernel_size=2, stride=2, padding=0, dilation=1, ceil_mode=False)\n",
       "  )\n",
       "  (fc1): Linear(in_features=6272, out_features=128, bias=True)\n",
       "  (fc2): Linear(in_features=128, out_features=46, bias=True)\n",
       ")"
      ]
     },
     "execution_count": 28,
     "metadata": {},
     "output_type": "execute_result"
    }
   ],
   "source": [
    "trans = transforms.Compose([transforms.Grayscale(num_output_channels=1), transforms.ToTensor(), transforms.Normalize((0.1307,), (0.3081,))])\n",
    "#( note: the ToTensor() transform automatically normalizes the images by dividing by 255)\n",
    "\n",
    "# ImageFolder is a generic data loader where the images are arranged inside the root_directory with different folders for each category\n",
    "\n",
    "train = ImageFolder('DevanagariHandwrittenCharacterDataset/train', transform=trans, loader=lambda path: Image.open(path).convert(\"LA\"))\n",
    "test = ImageFolder('DevanagariHandwrittenCharacterDataset/test', transform=trans,loader=lambda path: Image.open(path).convert(\"LA\"))\n",
    "# (note: ImageFolder's default loader loads RGB images by default, since we have Grayscale images we are using a custom loader here.)\n",
    "\n",
    "train_loader = DataLoader(train, batch_size=100, shuffle=True)\n",
    "test_loader = DataLoader(test, batch_size=100, shuffle=False)\n",
    "\n",
    "device = torch.device(\"cuda:0\" if torch.cuda.is_available() else \"cpu\")\n",
    "\n",
    "\n",
    "class Net(Module):   \n",
    "    def __init__(self):\n",
    "        super(Net, self).__init__()\n",
    "\n",
    "        self.cnn_layer = Sequential(\n",
    "            # Defining a 2D convolution layer with 5x5 kernels, 0 padding, 1 stride\n",
    "            # => output image size = ((32-5+0)/1)+1 = 28x28\n",
    "            Conv2d(1,32,kernel_size=(5,5)),\n",
    "            \n",
    "            # with RELU activation\n",
    "            ReLU(inplace=True),\n",
    "            \n",
    "            # add a Pooling layer with 2x2 kernels\n",
    "            # => output image size 28/2 = 14x14\n",
    "            MaxPool2d(2))   \n",
    "        \n",
    "        # A fully connected layer with 128 kernels (image size 14x14)\n",
    "        self.fc1=Linear(32*14*14,128)\n",
    "        \n",
    "        # Output layer with 46 outputs for the 46 categories\n",
    "        self.fc2=Linear(128,46)\n",
    "\n",
    "\n",
    "    # Defining the forward pass    \n",
    "    def forward(self, x):\n",
    "        \n",
    "        # perform the convolution and pooling\n",
    "        out = self.cnn_layer(x)\n",
    "        \n",
    "        # flatten the output\n",
    "        out = out.reshape(out.size(0), -1)\n",
    "        \n",
    "        # pass through the fully connected layers\n",
    "        out = self.fc1(out)\n",
    "        out = self.fc2(out)\n",
    "        \n",
    "        return out\n",
    "\n",
    "\n",
    "model=Net()\n",
    "model.to(device)\n"
   ]
  },
  {
   "cell_type": "code",
   "execution_count": 29,
   "metadata": {},
   "outputs": [
    {
     "name": "stderr",
     "output_type": "stream",
     "text": [
      "/Users/kiranlakhchaura/anaconda3/lib/python3.6/site-packages/torch/optim/lr_scheduler.py:100: UserWarning: Detected call of `lr_scheduler.step()` before `optimizer.step()`. In PyTorch 1.1.0 and later, you should call them in the opposite order: `optimizer.step()` before `lr_scheduler.step()`.  Failure to do this will result in PyTorch skipping the first value of the learning rate schedule.See more details at https://pytorch.org/docs/stable/optim.html#how-to-adjust-learning-rate\n",
      "  \"https://pytorch.org/docs/stable/optim.html#how-to-adjust-learning-rate\", UserWarning)\n"
     ]
    },
    {
     "name": "stdout",
     "output_type": "stream",
     "text": [
      "Iteration 0 in Epoch 0 Train Loss: 3.8521735668182373\n",
      "Iteration 100 in Epoch 0 Train Loss: 1.9340386390686035\n",
      "Iteration 200 in Epoch 0 Train Loss: 1.2203058004379272\n",
      "Iteration 300 in Epoch 0 Train Loss: 0.9401977062225342\n",
      "Iteration 400 in Epoch 0 Train Loss: 1.0061025619506836\n",
      "Iteration 500 in Epoch 0 Train Loss: 0.9817346930503845\n",
      "Iteration 600 in Epoch 0 Train Loss: 0.7003145813941956\n",
      "Iteration 700 in Epoch 0 Train Loss: 0.7278165221214294\n",
      "Epoch: 0, Train Loss: 1.147785053609887 Train Accuracy: 0.7123529411764706// Test Loss: 0.5824698645729518 Test Accuracy: 0.845072463768116\n",
      "Iteration 0 in Epoch 1 Train Loss: 0.4528562128543854\n",
      "Iteration 100 in Epoch 1 Train Loss: 0.6041050553321838\n",
      "Iteration 200 in Epoch 1 Train Loss: 0.36373427510261536\n",
      "Iteration 300 in Epoch 1 Train Loss: 0.4623102843761444\n",
      "Iteration 400 in Epoch 1 Train Loss: 0.4758194088935852\n",
      "Iteration 500 in Epoch 1 Train Loss: 0.42627865076065063\n",
      "Iteration 600 in Epoch 1 Train Loss: 0.43297886848449707\n",
      "Iteration 700 in Epoch 1 Train Loss: 0.36003348231315613\n",
      "Epoch: 1, Train Loss: 0.4456851014395809 Train Accuracy: 0.8835805626598465// Test Loss: 0.34980699314695335 Test Accuracy: 0.905\n",
      "Iteration 0 in Epoch 2 Train Loss: 0.29043641686439514\n",
      "Iteration 100 in Epoch 2 Train Loss: 0.230519637465477\n",
      "Iteration 200 in Epoch 2 Train Loss: 0.2573298513889313\n",
      "Iteration 300 in Epoch 2 Train Loss: 0.2154623419046402\n",
      "Iteration 400 in Epoch 2 Train Loss: 0.29724135994911194\n",
      "Iteration 500 in Epoch 2 Train Loss: 0.24432557821273804\n",
      "Iteration 600 in Epoch 2 Train Loss: 0.23506955802440643\n",
      "Iteration 700 in Epoch 2 Train Loss: 0.25046008825302124\n",
      "Epoch: 2, Train Loss: 0.2906124941871294 Train Accuracy: 0.9221355498721228// Test Loss: 0.26590025896692404 Test Accuracy: 0.9246376811594202\n",
      "Iteration 0 in Epoch 3 Train Loss: 0.23263230919837952\n",
      "Iteration 100 in Epoch 3 Train Loss: 0.14546586573123932\n",
      "Iteration 200 in Epoch 3 Train Loss: 0.1931094378232956\n",
      "Iteration 300 in Epoch 3 Train Loss: 0.16043104231357574\n",
      "Iteration 400 in Epoch 3 Train Loss: 0.4103444218635559\n",
      "Iteration 500 in Epoch 3 Train Loss: 0.16342121362686157\n",
      "Iteration 600 in Epoch 3 Train Loss: 0.15663808584213257\n",
      "Iteration 700 in Epoch 3 Train Loss: 0.26070526242256165\n",
      "Epoch: 3, Train Loss: 0.22078739781685344 Train Accuracy: 0.9407416879795396// Test Loss: 0.22548294115467402 Test Accuracy: 0.9359420289855073\n",
      "Iteration 0 in Epoch 4 Train Loss: 0.1727570742368698\n",
      "Iteration 100 in Epoch 4 Train Loss: 0.133490189909935\n",
      "Iteration 200 in Epoch 4 Train Loss: 0.14039205014705658\n",
      "Iteration 300 in Epoch 4 Train Loss: 0.20184467732906342\n",
      "Iteration 400 in Epoch 4 Train Loss: 0.11254753172397614\n",
      "Iteration 500 in Epoch 4 Train Loss: 0.17422190308570862\n",
      "Iteration 600 in Epoch 4 Train Loss: 0.07723147422075272\n",
      "Iteration 700 in Epoch 4 Train Loss: 0.13500374555587769\n",
      "Epoch: 4, Train Loss: 0.18140710447736255 Train Accuracy: 0.9505498721227621// Test Loss: 0.2035728056638407 Test Accuracy: 0.9408695652173913\n",
      "Iteration 0 in Epoch 5 Train Loss: 0.1326947957277298\n",
      "Iteration 100 in Epoch 5 Train Loss: 0.11094775795936584\n",
      "Iteration 200 in Epoch 5 Train Loss: 0.1892857551574707\n",
      "Iteration 300 in Epoch 5 Train Loss: 0.19103345274925232\n",
      "Iteration 400 in Epoch 5 Train Loss: 0.24893330037593842\n",
      "Iteration 500 in Epoch 5 Train Loss: 0.22748512029647827\n",
      "Iteration 600 in Epoch 5 Train Loss: 0.1495896279811859\n",
      "Iteration 700 in Epoch 5 Train Loss: 0.2117280811071396\n",
      "Epoch: 5, Train Loss: 0.15499352116871368 Train Accuracy: 0.9575575447570333// Test Loss: 0.1821711582226166 Test Accuracy: 0.9468840579710145\n",
      "Iteration 0 in Epoch 6 Train Loss: 0.11793240904808044\n",
      "Iteration 100 in Epoch 6 Train Loss: 0.11183492839336395\n",
      "Iteration 200 in Epoch 6 Train Loss: 0.057956185191869736\n",
      "Iteration 300 in Epoch 6 Train Loss: 0.09765717387199402\n",
      "Iteration 400 in Epoch 6 Train Loss: 0.08121668547391891\n",
      "Iteration 500 in Epoch 6 Train Loss: 0.100072480738163\n",
      "Iteration 600 in Epoch 6 Train Loss: 0.13028381764888763\n",
      "Iteration 700 in Epoch 6 Train Loss: 0.14598625898361206\n",
      "Epoch: 6, Train Loss: 0.11408076838344869 Train Accuracy: 0.9721355498721228// Test Loss: 0.16557870100360308 Test Accuracy: 0.9516666666666667\n",
      "Iteration 0 in Epoch 7 Train Loss: 0.1950445920228958\n",
      "Iteration 100 in Epoch 7 Train Loss: 0.06090450659394264\n",
      "Iteration 200 in Epoch 7 Train Loss: 0.07006751000881195\n",
      "Iteration 300 in Epoch 7 Train Loss: 0.09066221117973328\n",
      "Iteration 400 in Epoch 7 Train Loss: 0.11081784218549728\n",
      "Iteration 500 in Epoch 7 Train Loss: 0.14575797319412231\n",
      "Iteration 600 in Epoch 7 Train Loss: 0.16473354399204254\n",
      "Iteration 700 in Epoch 7 Train Loss: 0.09878825396299362\n",
      "Epoch: 7, Train Loss: 0.10931807140464825 Train Accuracy: 0.9738618925831202// Test Loss: 0.1637396022501955 Test Accuracy: 0.9532608695652174\n",
      "Iteration 0 in Epoch 8 Train Loss: 0.09072617441415787\n",
      "Iteration 100 in Epoch 8 Train Loss: 0.15769308805465698\n",
      "Iteration 200 in Epoch 8 Train Loss: 0.08398831635713577\n",
      "Iteration 300 in Epoch 8 Train Loss: 0.076898954808712\n",
      "Iteration 400 in Epoch 8 Train Loss: 0.15960563719272614\n",
      "Iteration 500 in Epoch 8 Train Loss: 0.16029761731624603\n",
      "Iteration 600 in Epoch 8 Train Loss: 0.04066227376461029\n",
      "Iteration 700 in Epoch 8 Train Loss: 0.08942986279726028\n",
      "Epoch: 8, Train Loss: 0.10651505047746022 Train Accuracy: 0.9749616368286445// Test Loss: 0.16189066145191158 Test Accuracy: 0.9534057971014492\n",
      "Iteration 0 in Epoch 9 Train Loss: 0.10855554789304733\n",
      "Iteration 100 in Epoch 9 Train Loss: 0.21787841618061066\n",
      "Iteration 200 in Epoch 9 Train Loss: 0.16394539177417755\n",
      "Iteration 300 in Epoch 9 Train Loss: 0.09941867738962173\n",
      "Iteration 400 in Epoch 9 Train Loss: 0.08723264932632446\n",
      "Iteration 500 in Epoch 9 Train Loss: 0.1414962112903595\n",
      "Iteration 600 in Epoch 9 Train Loss: 0.19926533102989197\n",
      "Iteration 700 in Epoch 9 Train Loss: 0.12483251839876175\n",
      "Epoch: 9, Train Loss: 0.10406102352987623 Train Accuracy: 0.9754219948849104// Test Loss: 0.16087072924879528 Test Accuracy: 0.953768115942029\n"
     ]
    }
   ],
   "source": [
    "learning_rate=0.0001\n",
    "\n",
    "# using crossentropy loss for categorical inputs\n",
    "criterion = torch.nn.CrossEntropyLoss()\n",
    "\n",
    "# using Adam optimizer\n",
    "optimizer = Adam(model.parameters(), lr=learning_rate)\n",
    "\n",
    "#Reduce learning rate lr by a factor of 0.1 every 7 epochs\n",
    "step_lr = lr_scheduler.StepLR(optimizer, step_size=7, gamma=0.1)\n",
    "\n",
    "#Training\n",
    "total_step = len(train_loader)\n",
    "nb_epoch=10\n",
    "    \n",
    "\n",
    "\n",
    "#train_losses=[]\n",
    "#val_losses=[]\n",
    "\n",
    "test_loss_epoch = []\n",
    "test_accuracy = []\n",
    "train_loss_epoch = []\n",
    "train_accuracy = []\n",
    "\n",
    "for epoch in range(nb_epoch):\n",
    "    \n",
    "    train_acc = 0\n",
    "    test_acc = 0\n",
    "    train_loss = []\n",
    "    test_loss = []\n",
    "    \n",
    "    \n",
    "    model.train()\n",
    "    \n",
    "    with torch.set_grad_enabled(True):\n",
    "        for i, (images, labels) in enumerate(train_loader):\n",
    "            inputs = images.to(device)\n",
    "            targets = labels.to(device)\n",
    "\n",
    "            # clearing the Gradients of the model parameters\n",
    "            optimizer.zero_grad()\n",
    "\n",
    "            # prediction for training and validation set\n",
    "            output = model(inputs)\n",
    "            # compute cross entropy loss\n",
    "            loss = criterion(output, targets)\n",
    "            # predict the class using the index of the maximum value from the output \n",
    "            _, pred = torch.max(output, 1)\n",
    "\n",
    "            train_acc += torch.sum(targets == pred)\n",
    "\n",
    "            # Backpropagate and optimize\n",
    "            loss.backward()\n",
    "            optimizer.step()\n",
    "\n",
    "            train_loss.append(loss.detach().cpu().numpy())\n",
    "            \n",
    "            # print the loss every 100 training batches\n",
    "            if i%100 == 0:\n",
    "                print('Iteration {} in Epoch {} Train Loss: {}'.format(i, epoch, loss))\n",
    "                \n",
    "    model.eval()\n",
    "    \n",
    "    with torch.set_grad_enabled(False):\n",
    "        for i, (images, labels) in enumerate(test_loader):\n",
    "            inputs_test = images.to(device)\n",
    "            targets_test = labels.to(device)\n",
    "\n",
    "            output = model(inputs_test)\n",
    "            # Compute cross entropy loss\n",
    "            loss_test = criterion(output, targets_test)\n",
    "            # predict the class using the index of the maximum value from the output \n",
    "            _, pred = torch.max(output, 1)\n",
    "            test_acc += torch.sum(targets_test == pred)\n",
    "            test_loss.append(loss_test.detach().cpu().numpy())\n",
    "            \n",
    "    # append the average values of the training loss, training accuracy, test loss and test accuracy per epoch\n",
    "    train_loss_epoch.append(sum(train_loss)/len(train_loader))\n",
    "    test_loss_epoch.append(sum(test_loss)/len(test_loader))\n",
    "    train_accuracy.append(train_acc.cpu().numpy()/len(train))\n",
    "    test_accuracy.append(test_acc.cpu().numpy()/len(test))\n",
    "    \n",
    "    # print the average values of the training loss, training accuracy, test loss and test accuracy for every epoch\n",
    "    print('Epoch: {}, Train Loss: {} Train Accuracy: {}// Test Loss: {} Test Accuracy: {}'.format(epoch, sum(train_loss)/len(train_loader), train_acc.cpu().numpy()/len(train), sum(test_loss)/len(test_loader), test_acc.cpu().numpy()/len(test)))\n",
    "            \n",
    "    #Change learning rate every seven epochs\n",
    "    step_lr.step()\n",
    "    "
   ]
  },
  {
   "cell_type": "markdown",
   "metadata": {},
   "source": [
    "### Loss plots for training and test sets"
   ]
  },
  {
   "cell_type": "code",
   "execution_count": 31,
   "metadata": {},
   "outputs": [
    {
     "data": {
      "image/png": "[encoded data removed]",
      "text/plain": [
       "<Figure size 864x648 with 1 Axes>"
      ]
     },
     "metadata": {},
     "output_type": "display_data"
    }
   ],
   "source": [
    "import seaborn as sns\n",
    "\n",
    "sns.set()\n",
    "fig, ax = plt.subplots(1, 1, figsize = (12, 9))\n",
    "ax.plot(train_loss_epoch, label='Training Loss')\n",
    "ax.plot(test_loss_epoch, label='Test Loss')\n",
    "ax.set_xlabel('Epoch')\n",
    "ax.set_ylabel('Loss')\n",
    "ax.legend(loc='best')\n",
    "fig.savefig('devnagari_alphabet_recognition_loss_inception_net.png', dpi=300)"
   ]
  },
  {
   "cell_type": "markdown",
   "metadata": {},
   "source": [
    "### Accuracy plots for training and test sets"
   ]
  },
  {
   "cell_type": "code",
   "execution_count": 32,
   "metadata": {},
   "outputs": [
    {
     "data": {
      "image/png": "[encoded data removed]",
      "text/plain": [
       "<Figure size 864x648 with 1 Axes>"
      ]
     },
     "metadata": {},
     "output_type": "display_data"
    }
   ],
   "source": [
    "fig1, ax1 = plt.subplots(1, 1, figsize = (12, 9))\n",
    "ax1.plot(train_accuracy, label='Training Acc')\n",
    "ax1.plot(test_accuracy, label='Test Acc')\n",
    "ax1.set_xlabel('Accuracy')\n",
    "ax1.set_ylabel('Accuracy')\n",
    "ax1.legend(loc='best')\n",
    "fig1.savefig('devnagari_alphabet_recognition_accuracy_inception_net.png', dpi=300)"
   ]
  },
  {
   "cell_type": "code",
   "execution_count": 108,
   "metadata": {},
   "outputs": [],
   "source": [
    "# test for example image"
   ]
  },
  {
   "cell_type": "code",
   "execution_count": null,
   "metadata": {},
   "outputs": [],
   "source": []
  },
  {
   "cell_type": "raw",
   "metadata": {},
   "source": [
    "file = 'DevanagariHandwrittenCharacterDataset/test/character_24_bha/17529.png'\n",
    "img = Image.open(file).convert(\"L\")\n",
    "plt.imshow(np.asarray(img),cmap='gray_r')\n",
    "img = transforms.Normalize((0.1307,), (0.3081,))(transforms.ToTensor()(img))\n",
    "img = img.unsqueeze(0)\n",
    "img.size()\n",
    "_, pred = torch.max(model(img), 1)\n",
    "print(pred,train.classes[pred])"
   ]
  },
  {
   "cell_type": "code",
   "execution_count": null,
   "metadata": {},
   "outputs": [],
   "source": []
  },
  {
   "cell_type": "code",
   "execution_count": 111,
   "metadata": {},
   "outputs": [
    {
     "name": "stdout",
     "output_type": "stream",
     "text": [
      "tensor([17]) character_26_yaw\n"
     ]
    },
    {
     "data": {
      "image/png": "[encoded data removed]",
      "text/plain": [
       "<Figure size 432x288 with 1 Axes>"
      ]
     },
     "metadata": {},
     "output_type": "display_data"
    }
   ],
   "source": [
    "file = 'DevanagariHandwrittenCharacterDataset/test/character_26_yaw/10528.png'\n",
    "img = Image.open(file).convert(\"L\")\n",
    "plt.imshow(np.asarray(img),cmap='gray_r')\n",
    "img = transforms.Normalize((0.1307,), (0.3081,))(transforms.ToTensor()(img))\n",
    "img = img.unsqueeze(0)\n",
    "img.size()\n",
    "_, pred = torch.max(model(img), 1)\n",
    "print(pred,train.classes[pred])"
   ]
  },
  {
   "cell_type": "markdown",
   "metadata": {},
   "source": [
    "Thus, the classification seems to be right."
   ]
  },
  {
   "cell_type": "code",
   "execution_count": null,
   "metadata": {},
   "outputs": [],
   "source": []
  }
 ],
 "metadata": {
  "kernelspec": {
   "display_name": "Python 3",
   "language": "python",
   "name": "python3"
  },
  "language_info": {
   "codemirror_mode": {
    "name": "ipython",
    "version": 3
   },
   "file_extension": ".py",
   "mimetype": "text/x-python",
   "name": "python",
   "nbconvert_exporter": "python",
   "pygments_lexer": "ipython3",
   "version": "3.6.9"
  }
 },
 "nbformat": 4,
 "nbformat_minor": 4
}
